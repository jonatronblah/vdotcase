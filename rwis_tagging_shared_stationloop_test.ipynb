{
 "cells": [
  {
   "cell_type": "code",
   "execution_count": 1,
   "metadata": {},
   "outputs": [
    {
     "name": "stderr",
     "output_type": "stream",
     "text": [
      "C:\\ProgramData\\Anaconda3\\lib\\site-packages\\IPython\\core\\interactiveshell.py:3020: DtypeWarning: Columns (12,13,14,16,23) have mixed types. Specify dtype option on import or set low_memory=False.\n",
      "  interactivity=interactivity, compiler=compiler, result=result)\n"
     ]
    }
   ],
   "source": [
    "#import modules and data, drop derived fields\n",
    "import pandas as pd\n",
    "import numpy as np\n",
    "vdot = pd.read_csv(r\"cleanrwis.csv\")\n",
    "droplist = ['Unnamed: 0', 'concrete_yn_ground', 'concrete_yn_surf',\n",
    "       'concrete_yn_air', 'concrete_over_yn_ground', 'concrete_over_yn_surf',\n",
    "       'concrete_over_yn_air', 'epoxy_yn_ground', 'epoxy_over_yn_surf',\n",
    "       'epoxy_over_yn_air', 'shotcrete_yn_ground', 'shotcrete_yn_surf',\n",
    "       'shotcrete_yn_air', 'silicone_yn_ground', 'silicone_yn_surf',\n",
    "       'silicone_yn_air', 'coatings_yn_ground', 'coatings_over_yn_surf',\n",
    "       'coatings_over_yn_air', 'polymer_yn_ground', 'polymer_over_yn_surf',\n",
    "       'polymer_over_yn_air', 'avg_groundtemp', 'avg_surftemp', 'surfstate_ss1_score',\n",
    "       'surfstate_ss2_score', 'surfstate_ss3_score', 'surfstate_ss4_score',\n",
    "       'surfstate_master']\n",
    "vdot = vdot.drop(droplist, axis=1)"
   ]
  },
  {
   "cell_type": "code",
   "execution_count": 2,
   "metadata": {},
   "outputs": [],
   "source": [
    "#filter out stations with less than 95% data coverage for airtemp and rainonoff\n",
    "goodstations = []\n",
    "okstations = []\n",
    "for num in vdot.groupby('stationid'):\n",
    "    if ((vdot[vdot['stationid'] == num[0]].airtemp.isna().sum()/len(vdot[vdot['stationid'] == num[0]]))) <= .05 and (vdot[vdot['stationid'] == num[0]].rainonoff.isna().sum()/len(vdot[vdot['stationid'] == num[0]])) <= .05:\n",
    "        goodstations.append(num[0])\n",
    "    if ((vdot[vdot['stationid'] == num[0]].airtemp.isna().sum()/len(vdot[vdot['stationid'] == num[0]]))) <= .2 and ((vdot[vdot['stationid'] == num[0]].airtemp.isna().sum()/len(vdot[vdot['stationid'] == num[0]]))) > .05 and (vdot[vdot['stationid'] == num[0]].rainonoff.isna().sum()/len(vdot[vdot['stationid'] == num[0]])) <= .2 and (vdot[vdot['stationid'] == num[0]].rainonoff.isna().sum()/len(vdot[vdot['stationid'] == num[0]])) > .05:\n",
    "        okstations.append(num[0])\n",
    "        \n",
    "\n",
    "\n"
   ]
  },
  {
   "cell_type": "code",
   "execution_count": 3,
   "metadata": {},
   "outputs": [],
   "source": [
    "#only included the 37 stations with good data coverage\n",
    "vdot = vdot[vdot['stationid'].isin(goodstations)]"
   ]
  },
  {
   "cell_type": "code",
   "execution_count": 4,
   "metadata": {},
   "outputs": [
    {
     "data": {
      "text/plain": [
       "nan"
      ]
     },
     "execution_count": 4,
     "metadata": {},
     "output_type": "execute_result"
    }
   ],
   "source": [
    "#determine average hourly precipitation rate for vdot observations where rainonoff = on - for use with NOAA data\n",
    "vdot[vdot['rainonoff'] == 1].rainperhr.mean()"
   ]
  },
  {
   "cell_type": "code",
   "execution_count": 5,
   "metadata": {},
   "outputs": [],
   "source": [
    "#convert time column to datetime and set to dataframe index (datetime index)\n",
    "vdot.time = pd.to_datetime(vdot.time)\n",
    "vdot = vdot.set_index('time')"
   ]
  },
  {
   "cell_type": "code",
   "execution_count": 6,
   "metadata": {},
   "outputs": [],
   "source": [
    "#convert rainonoff field to integers\n",
    "\n",
    "maskoff = vdot['rainonoff'].str.match('off', na=False)\n",
    "maskon = vdot['rainonoff'].str.match('on', na=False)\n",
    "\n",
    "vdot.loc[maskoff, 'rainonoff'] = 0\n",
    "vdot.loc[maskon, 'rainonoff'] = 1\n",
    "\n",
    "vdot['rainonoff'] = pd.to_numeric(vdot['rainonoff'])"
   ]
  },
  {
   "cell_type": "code",
   "execution_count": 7,
   "metadata": {},
   "outputs": [],
   "source": [
    "#create flagging function to tag observations as good or bad based on rules:\n",
    "    #if any of the following: \n",
    "        #observation has rain detected, temperature below 40 or above 95\n",
    "            #day is flagged as bad (0)\n",
    "def flagger(df):\n",
    "    if (df['rainonoff'] == 1) or (df['airtemp'] < 40) or (df['airtemp'] > 95):\n",
    "        return 0\n",
    "    else:\n",
    "        return 1\n",
    "    \n",
    "vdot['goodobs'] = vdot.apply(flagger, axis=1)"
   ]
  },
  {
   "cell_type": "code",
   "execution_count": 8,
   "metadata": {},
   "outputs": [],
   "source": [
    "vdot['stationid'] = vdot['stationid'].apply(str)"
   ]
  },
  {
   "cell_type": "code",
   "execution_count": 14,
   "metadata": {},
   "outputs": [
    {
     "name": "stdout",
     "output_type": "stream",
     "text": [
      "station 0 1    4357\n",
      "0    2947\n",
      "Name: sixhoursbuffgood, dtype: int64\n",
      "station 1 1    5098\n",
      "0    2198\n",
      "Name: sixhoursbuffgood, dtype: int64\n",
      "station 10 1    5263\n",
      "0    2041\n",
      "Name: sixhoursbuffgood, dtype: int64\n",
      "station 11 1    5066\n",
      "0    2238\n",
      "Name: sixhoursbuffgood, dtype: int64\n",
      "station 16 1    4551\n",
      "0    2753\n",
      "Name: sixhoursbuffgood, dtype: int64\n",
      "station 17 0    4476\n",
      "1    2828\n",
      "Name: sixhoursbuffgood, dtype: int64\n",
      "station 18 1    5298\n",
      "0    2006\n",
      "Name: sixhoursbuffgood, dtype: int64\n",
      "station 2 1    4552\n",
      "0    2752\n",
      "Name: sixhoursbuffgood, dtype: int64\n",
      "station 23 1    5296\n",
      "0    2008\n",
      "Name: sixhoursbuffgood, dtype: int64\n",
      "station 24 0    5075\n",
      "1    1861\n",
      "Name: sixhoursbuffgood, dtype: int64\n",
      "station 25 0    4666\n",
      "1    2638\n",
      "Name: sixhoursbuffgood, dtype: int64\n",
      "station 26 0    3865\n",
      "1    3439\n",
      "Name: sixhoursbuffgood, dtype: int64\n",
      "station 28 0    3941\n",
      "1    3363\n",
      "Name: sixhoursbuffgood, dtype: int64\n",
      "station 30 0    4947\n",
      "1    2357\n",
      "Name: sixhoursbuffgood, dtype: int64\n",
      "station 34 1    5032\n",
      "0    2272\n",
      "Name: sixhoursbuffgood, dtype: int64\n",
      "station 35 1    5577\n",
      "0    1727\n",
      "Name: sixhoursbuffgood, dtype: int64\n",
      "station 36 1    5453\n",
      "0    1703\n",
      "Name: sixhoursbuffgood, dtype: int64\n",
      "station 37 1    5304\n",
      "0    2000\n",
      "Name: sixhoursbuffgood, dtype: int64\n",
      "station 4 1    4463\n",
      "0    2841\n",
      "Name: sixhoursbuffgood, dtype: int64\n",
      "station 43 0    4183\n",
      "1    3121\n",
      "Name: sixhoursbuffgood, dtype: int64\n",
      "station 44 1    4755\n",
      "0    2549\n",
      "Name: sixhoursbuffgood, dtype: int64\n",
      "station 46 1    5024\n",
      "0    2280\n",
      "Name: sixhoursbuffgood, dtype: int64\n",
      "station 5 1    4859\n",
      "0    2445\n",
      "Name: sixhoursbuffgood, dtype: int64\n",
      "station 50 1    4762\n",
      "0    2542\n",
      "Name: sixhoursbuffgood, dtype: int64\n",
      "station 51 1    5039\n",
      "0    2265\n",
      "Name: sixhoursbuffgood, dtype: int64\n",
      "station 53 1    5213\n",
      "0    2091\n",
      "Name: sixhoursbuffgood, dtype: int64\n",
      "station 55 1    4847\n",
      "0    2457\n",
      "Name: sixhoursbuffgood, dtype: int64\n",
      "station 56 1    4849\n",
      "0    2455\n",
      "Name: sixhoursbuffgood, dtype: int64\n",
      "station 57 1    4821\n",
      "0    2483\n",
      "Name: sixhoursbuffgood, dtype: int64\n",
      "station 59 1    5208\n",
      "0    2096\n",
      "Name: sixhoursbuffgood, dtype: int64\n",
      "station 6 1    5309\n",
      "0    1995\n",
      "Name: sixhoursbuffgood, dtype: int64\n",
      "station 60 1    4860\n",
      "0    2444\n",
      "Name: sixhoursbuffgood, dtype: int64\n",
      "station 62 1    4747\n",
      "0    2557\n",
      "Name: sixhoursbuffgood, dtype: int64\n",
      "station 63 1    4705\n",
      "0    2599\n",
      "Name: sixhoursbuffgood, dtype: int64\n",
      "station 65 1    5296\n",
      "0    2008\n",
      "Name: sixhoursbuffgood, dtype: int64\n",
      "station 7 1    5300\n",
      "0    1739\n",
      "Name: sixhoursbuffgood, dtype: int64\n",
      "station 9 0    4186\n",
      "1    3118\n",
      "Name: sixhoursbuffgood, dtype: int64\n"
     ]
    }
   ],
   "source": [
    "#for each station:\n",
    "# 1. resample to 6 hour time periods with sum function, getting total good observations per 6 hour period\n",
    "# 2. divide sum of positive responses per period by total number of observations per period\n",
    "# 3. 6 hour periods which consist of more than 50% \"good\" observations are \"good\"\n",
    "# 4. iterate through rows and check for 6 hour buffer: if \"good\" 6 hr period is preceded by another, it gets a 1 - else 0\n",
    "stationlist = []\n",
    "for num in vdot.groupby('stationid'):\n",
    "    vdotre = vdot[vdot['stationid'] == num[0]].resample('6H').sum()\n",
    "    vdotrecount = vdot[vdot['stationid'] == num[0]].resample('6H').size()\n",
    "    vdotre['sixhrprop'] = vdotre['goodobs'] / vdotrecount\n",
    "    vdotre['sixhourgood'] = [1 if x > 0.5 else 0 for x in vdotre['sixhrprop']]\n",
    "    sixhoursbuffgood = []\n",
    "    for i in range(0, len(vdotre)):\n",
    "        if vdotre.iloc[i].sixhourgood == 1 and vdotre.iloc[i-1].sixhourgood == 1:\n",
    "            sixhoursbuffgood.append(1)\n",
    "        else:\n",
    "            sixhoursbuffgood.append(0)    \n",
    "    vdotre['sixhoursbuffgood'] = sixhoursbuffgood\n",
    "    vdotre['RWIS_CODE'] = vdot[vdot['stationid'] == num[0]].reset_index().drop('time', axis=1)['RWIS_CODE'][0]\n",
    "    vdotre['RWIS_KEY'] = vdot[vdot['stationid'] == num[0]].reset_index().drop('time', axis=1)['RWIS_KEY'][0]\n",
    "    vdotre['RWIS_NAME'] = vdot[vdot['stationid'] == num[0]].reset_index().drop('time', axis=1)['RWIS_NAME'][0]\n",
    "    vdotre['LATITUDE'] = vdot[vdot['stationid'] == num[0]].reset_index().drop('time', axis=1)['LATITUDE'][0]\n",
    "    vdotre['LONGITUDE'] = vdot[vdot['stationid'] == num[0]].reset_index().drop('time', axis=1)['LONGITUDE'][0]\n",
    "    vdotre['REGION_NAME'] = vdot[vdot['stationid'] == num[0]].reset_index().drop('time', axis=1)['REGION_NAME'][0]\n",
    "    vdotre['DISTRICT_NAME'] = vdot[vdot['stationid'] == num[0]].reset_index().drop('time', axis=1)['DISTRICT_NAME'][0]\n",
    "    vdotre['COUNTY_NAME'] = vdot[vdot['stationid'] == num[0]].reset_index().drop('time', axis=1)['COUNTY_NAME'][0]\n",
    "    vdotre['alt_ft'] = vdot[vdot['stationid'] == num[0]].reset_index().drop('time', axis=1)['alt_ft'][0]\n",
    "    vdotre = vdotre[['goodobs', 'sixhrprop', 'sixhourgood', 'sixhoursbuffgood', 'RWIS_CODE', 'RWIS_KEY', 'RWIS_NAME', 'LATITUDE', 'LONGITUDE', 'REGION_NAME', 'DISTRICT_NAME', 'COUNTY_NAME', 'alt_ft']]\n",
    "    #vdotre['sixhoursbuffgood'].to_csv('station'+num[0]+'.csv')\n",
    "    stationlist.append(vdotre)\n",
    "    print(\"station\", num[0], vdotre.sixhoursbuffgood.value_counts())\n",
    "out = pd.concat(stationlist)\n",
    "out.to_csv('vdot_out.csv')\n",
    "\n",
    "\n",
    "\n",
    "    \n",
    "    "
   ]
  }
 ],
 "metadata": {
  "kernelspec": {
   "display_name": "Python 3",
   "language": "python",
   "name": "python3"
  },
  "language_info": {
   "codemirror_mode": {
    "name": "ipython",
    "version": 3
   },
   "file_extension": ".py",
   "mimetype": "text/x-python",
   "name": "python",
   "nbconvert_exporter": "python",
   "pygments_lexer": "ipython3",
   "version": "3.7.1"
  }
 },
 "nbformat": 4,
 "nbformat_minor": 2
}
